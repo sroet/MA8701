{
 "cells": [
  {
   "cell_type": "code",
   "execution_count": null,
   "metadata": {
    "execution": {
     "iopub.execute_input": "2021-02-09T14:48:55.533145Z",
     "iopub.status.busy": "2021-02-09T14:48:55.532569Z",
     "iopub.status.idle": "2021-02-09T14:48:56.354332Z",
     "shell.execute_reply": "2021-02-09T14:48:56.353423Z"
    }
   },
   "outputs": [],
   "source": [
    "import numpy as np\n",
    "import pandas as pd\n",
    "from sklearn import linear_model\n",
    "import seaborn as sns\n",
    "import datetime\n",
    "from group_lasso import GroupLasso\n",
    "from sklearn.utils import resample, check_random_state\n",
    "from sklearn.model_selection import cross_val_score, cross_validate\n",
    "\n",
    "from extra_functions import *\n",
    "\n",
    "#Silence some warnings (remove before final version)\n",
    "import warnings\n",
    "warnings.filterwarnings('ignore')"
   ]
  },
  {
   "cell_type": "code",
   "execution_count": null,
   "metadata": {
    "execution": {
     "iopub.execute_input": "2021-02-09T14:48:56.358461Z",
     "iopub.status.busy": "2021-02-09T14:48:56.357998Z",
     "iopub.status.idle": "2021-02-09T14:49:04.818353Z",
     "shell.execute_reply": "2021-02-09T14:49:04.818809Z"
    }
   },
   "outputs": [],
   "source": [
    "df = pd.read_csv('energydata_complete.csv')\n",
    "df['date'] = pd.to_datetime(df['date'])\n",
    "df = df.set_index('date')\n",
    "\n",
    "fig = plot_data(df)\n",
    "fig"
   ]
  },
  {
   "cell_type": "markdown",
   "metadata": {},
   "source": [
    "### Taking an 24-hour mean"
   ]
  },
  {
   "cell_type": "code",
   "execution_count": null,
   "metadata": {
    "execution": {
     "iopub.execute_input": "2021-02-09T14:49:04.823648Z",
     "iopub.status.busy": "2021-02-09T14:49:04.823182Z",
     "iopub.status.idle": "2021-02-09T14:49:04.839047Z",
     "shell.execute_reply": "2021-02-09T14:49:04.838561Z"
    }
   },
   "outputs": [],
   "source": [
    "df = df.resample('24h').mean()"
   ]
  },
  {
   "cell_type": "markdown",
   "metadata": {},
   "source": [
    "### Generating extra features to describe time\n",
    "weekday: number [0,6]\\\n",
    "weekstatus: binary describing weekend (1) or not (0)\\\n",
    "NSM: Number of Seconds from Midnight\n",
    "\n",
    "These are used for filtering the data"
   ]
  },
  {
   "cell_type": "code",
   "execution_count": null,
   "metadata": {
    "execution": {
     "iopub.execute_input": "2021-02-09T14:49:04.852017Z",
     "iopub.status.busy": "2021-02-09T14:49:04.851538Z",
     "iopub.status.idle": "2021-02-09T14:49:04.853614Z",
     "shell.execute_reply": "2021-02-09T14:49:04.854001Z"
    }
   },
   "outputs": [],
   "source": [
    "weekday = np.zeros(len(df))\n",
    "weekstatus = np.zeros(len(df))\n",
    "NSM = np.zeros(len(df))\n",
    "month = np.zeros(len(df))\n",
    "\n",
    "for i, val in enumerate(df.index):\n",
    "    weekday[i] = val.weekday()\n",
    "    weekstatus[i] = (weekday[i] >= 5)  # False for workday, True for weekend\n",
    "    NSM[i] = (val - val.replace(hour=0, minute=0, second=0, microsecond=0)).total_seconds()\n",
    "    month[i] = val.month\n",
    "\n",
    "df['weekday'] = weekday\n",
    "df['week status'] = weekstatus\n",
    "df['NSM'] = NSM\n",
    "df['month'] = month"
   ]
  },
  {
   "cell_type": "code",
   "execution_count": null,
   "metadata": {
    "execution": {
     "iopub.execute_input": "2021-02-09T14:49:04.860842Z",
     "iopub.status.busy": "2021-02-09T14:49:04.859591Z",
     "iopub.status.idle": "2021-02-09T14:49:04.988072Z",
     "shell.execute_reply": "2021-02-09T14:49:04.987599Z"
    }
   },
   "outputs": [],
   "source": [
    "plt.figure()\n",
    "plt.scatter(df['NSM'],df['Appliances'])\n",
    "plt.xlabel('NSM')\n",
    "plt.ylabel('Appliances')\n",
    "plt.show()"
   ]
  },
  {
   "cell_type": "markdown",
   "metadata": {},
   "source": [
    "### Filtering data and making training set\n",
    "Example: Only february, after 16:00 and workday"
   ]
  },
  {
   "cell_type": "code",
   "execution_count": null,
   "metadata": {
    "execution": {
     "iopub.execute_input": "2021-02-09T14:49:04.992536Z",
     "iopub.status.busy": "2021-02-09T14:49:04.992044Z",
     "iopub.status.idle": "2021-02-09T14:49:04.997415Z",
     "shell.execute_reply": "2021-02-09T14:49:04.997822Z"
    }
   },
   "outputs": [],
   "source": [
    "#df_train = df[(df.index.month==2) & (df['NSM']>=16*3600) & (df['NSM']<24*3600)]\n",
    "df_train = df[(df.index.month==2)]\n",
    "df_train = df_train.drop(['weekday', 'week status','month','NSM'], axis=1) # dropping the features used for filtering\n",
    "\n",
    "# Training data\n",
    "y = np.array(df_train['Appliances']).reshape(-1,1)\n",
    "X = np.array(df_train[df_train.columns[1:]])\n",
    "X, y = standardize(X,y)"
   ]
  },
  {
   "cell_type": "markdown",
   "metadata": {},
   "source": [
    "### Correlations of covariates"
   ]
  },
  {
   "cell_type": "code",
   "execution_count": null,
   "metadata": {
    "execution": {
     "iopub.execute_input": "2021-02-09T14:49:05.005598Z",
     "iopub.status.busy": "2021-02-09T14:49:05.001748Z",
     "iopub.status.idle": "2021-02-09T14:49:05.614325Z",
     "shell.execute_reply": "2021-02-09T14:49:05.613576Z"
    }
   },
   "outputs": [],
   "source": [
    "cor = df_train[df_train.columns[1:]].corr()\n",
    "fig, ax = plt.subplots(figsize=(10,10)) \n",
    "sns.heatmap(cor, square=True, xticklabels=True, yticklabels=True, cmap='RdBu')\n",
    "plt.show()"
   ]
  },
  {
   "cell_type": "markdown",
   "metadata": {},
   "source": [
    "### Cross validation"
   ]
  },
  {
   "cell_type": "code",
   "execution_count": null,
   "metadata": {
    "execution": {
     "iopub.execute_input": "2021-02-09T14:49:05.618692Z",
     "iopub.status.busy": "2021-02-09T14:49:05.618235Z",
     "iopub.status.idle": "2021-02-09T14:49:05.620473Z",
     "shell.execute_reply": "2021-02-09T14:49:05.620066Z"
    }
   },
   "outputs": [],
   "source": [
    "# Creating array of penalties\n",
    "\n",
    "n_alpha = 100 # Number of penalties\n",
    "min_alpha = .01 # min penalty\n",
    "max_alpha = 200 # Maximum penalty\n",
    "alpha_vals = np.logspace(np.log10(min_alpha),np.log10(max_alpha),n_alpha)\n",
    "alpha_vals = alpha_vals[::-1] # reversing array (some sklearn standard?)"
   ]
  },
  {
   "cell_type": "markdown",
   "metadata": {},
   "source": [
    "#### CV Lasso"
   ]
  },
  {
   "cell_type": "code",
   "execution_count": null,
   "metadata": {
    "execution": {
     "iopub.execute_input": "2021-02-09T14:49:05.625755Z",
     "iopub.status.busy": "2021-02-09T14:49:05.624771Z",
     "iopub.status.idle": "2021-02-09T14:49:06.408196Z",
     "shell.execute_reply": "2021-02-09T14:49:06.407431Z"
    }
   },
   "outputs": [],
   "source": [
    "cv_lasso = linear_model.LassoCV(cv=10, random_state=0, fit_intercept=False, alphas=alpha_vals).fit(X, y)"
   ]
  },
  {
   "cell_type": "markdown",
   "metadata": {},
   "source": [
    "#### CV Ridge"
   ]
  },
  {
   "cell_type": "code",
   "execution_count": null,
   "metadata": {
    "execution": {
     "iopub.execute_input": "2021-02-09T14:49:06.413613Z",
     "iopub.status.busy": "2021-02-09T14:49:06.413094Z",
     "iopub.status.idle": "2021-02-09T14:49:08.797491Z",
     "shell.execute_reply": "2021-02-09T14:49:08.796705Z"
    }
   },
   "outputs": [],
   "source": [
    "cv_ridge = linear_model.ElasticNetCV(cv=10, random_state=0, l1_ratio=0, fit_intercept=False, alphas=alpha_vals).fit(X, y)"
   ]
  },
  {
   "cell_type": "markdown",
   "metadata": {},
   "source": [
    "#### CV Elastic net (0.5 ratio)"
   ]
  },
  {
   "cell_type": "code",
   "execution_count": null,
   "metadata": {
    "execution": {
     "iopub.execute_input": "2021-02-09T14:49:08.802743Z",
     "iopub.status.busy": "2021-02-09T14:49:08.802250Z",
     "iopub.status.idle": "2021-02-09T14:49:09.362496Z",
     "shell.execute_reply": "2021-02-09T14:49:09.361497Z"
    }
   },
   "outputs": [],
   "source": [
    "cv_elnet = linear_model.ElasticNetCV(cv=10, random_state=0, l1_ratio=0.5, fit_intercept=False, alphas=alpha_vals).fit(X, y)"
   ]
  },
  {
   "cell_type": "code",
   "execution_count": null,
   "metadata": {
    "execution": {
     "iopub.execute_input": "2021-02-09T14:49:09.368168Z",
     "iopub.status.busy": "2021-02-09T14:49:09.367533Z",
     "iopub.status.idle": "2021-02-09T14:49:09.371063Z",
     "shell.execute_reply": "2021-02-09T14:49:09.371471Z"
    }
   },
   "outputs": [],
   "source": [
    "print('Lasso score: ', cv_lasso.score(X,y))\n",
    "print('Ridge score: ', cv_ridge.score(X,y))\n",
    "print('Elastic net score: ', cv_elnet.score(X,y))"
   ]
  },
  {
   "cell_type": "code",
   "execution_count": null,
   "metadata": {
    "execution": {
     "iopub.execute_input": "2021-02-09T14:49:09.382702Z",
     "iopub.status.busy": "2021-02-09T14:49:09.377836Z",
     "iopub.status.idle": "2021-02-09T14:49:10.109162Z",
     "shell.execute_reply": "2021-02-09T14:49:10.109928Z"
    }
   },
   "outputs": [],
   "source": [
    "plot_CV_MSE(alpha_vals,cv_lasso.mse_path_,cv_lasso.alpha_, 'Lasso')\n",
    "plot_CV_MSE(alpha_vals,cv_ridge.mse_path_,cv_ridge.alpha_, 'Ridge')\n",
    "plot_CV_MSE(alpha_vals,cv_elnet.mse_path_,cv_elnet.alpha_, 'Elastic net')"
   ]
  },
  {
   "cell_type": "markdown",
   "metadata": {},
   "source": [
    "### Cross validation parameters"
   ]
  },
  {
   "cell_type": "code",
   "execution_count": null,
   "metadata": {
    "execution": {
     "iopub.execute_input": "2021-02-09T14:49:10.115111Z",
     "iopub.status.busy": "2021-02-09T14:49:10.114442Z",
     "iopub.status.idle": "2021-02-09T14:49:10.117154Z",
     "shell.execute_reply": "2021-02-09T14:49:10.116723Z"
    }
   },
   "outputs": [],
   "source": [
    "# Creating array of penalties\n",
    "n_alpha = 100 # Number of penalties\n",
    "min_alpha = .01 # min penalty\n",
    "max_alpha = 200 # Maximum penalty\n",
    "alpha_vals = np.logspace(np.log10(min_alpha),np.log10(max_alpha),n_alpha)\n",
    "alpha_vals = alpha_vals[::-1] # reversing array (some sklearn standard?)"
   ]
  },
  {
   "cell_type": "markdown",
   "metadata": {},
   "source": [
    "### Ordinary least squares"
   ]
  },
  {
   "cell_type": "code",
   "execution_count": null,
   "metadata": {
    "execution": {
     "iopub.execute_input": "2021-02-09T14:49:10.121573Z",
     "iopub.status.busy": "2021-02-09T14:49:10.120972Z",
     "iopub.status.idle": "2021-02-09T14:49:10.123145Z",
     "shell.execute_reply": "2021-02-09T14:49:10.123556Z"
    }
   },
   "outputs": [],
   "source": [
    "reg_lstsq = linear_model.LinearRegression(fit_intercept=False)\n",
    "beta_ls = reg_lstsq.fit(X,y).coef_"
   ]
  },
  {
   "cell_type": "markdown",
   "metadata": {},
   "source": [
    "### Lasso"
   ]
  },
  {
   "cell_type": "code",
   "execution_count": null,
   "metadata": {
    "execution": {
     "iopub.execute_input": "2021-02-09T14:49:10.129890Z",
     "iopub.status.busy": "2021-02-09T14:49:10.128300Z",
     "iopub.status.idle": "2021-02-09T14:49:14.987377Z",
     "shell.execute_reply": "2021-02-09T14:49:14.986619Z"
    }
   },
   "outputs": [],
   "source": [
    "reg = linear_model.Lasso(max_iter = 10000, fit_intercept = False)\n",
    "beta_lasso, best_beta_lasso, cv_out_lasso, min_alpha_lasso = feature_selection_cv(X, y, alpha_vals, reg)\n",
    "    \n",
    "# Best model   \n",
    "reg_lasso = linear_model.Lasso(alpha=min_alpha_lasso, max_iter = 10000, fit_intercept = False)"
   ]
  },
  {
   "cell_type": "markdown",
   "metadata": {},
   "source": [
    "### Ridge"
   ]
  },
  {
   "cell_type": "code",
   "execution_count": null,
   "metadata": {
    "execution": {
     "iopub.execute_input": "2021-02-09T14:49:14.992415Z",
     "iopub.status.busy": "2021-02-09T14:49:14.991960Z",
     "iopub.status.idle": "2021-02-09T14:49:41.616749Z",
     "shell.execute_reply": "2021-02-09T14:49:41.616252Z"
    }
   },
   "outputs": [],
   "source": [
    "reg = linear_model.ElasticNet(max_iter = 10000, l1_ratio=0, fit_intercept = False)\n",
    "\n",
    "beta_ridge, best_beta_ridge, cv_out_ridge, min_alpha_ridge = feature_selection_cv(X, y, alpha_vals, reg)\n",
    "        \n",
    "# Best model\n",
    "reg_ridge = linear_model.ElasticNet(alpha=min_alpha_ridge, max_iter = 10000, l1_ratio=0.0, fit_intercept = False)"
   ]
  },
  {
   "cell_type": "markdown",
   "metadata": {},
   "source": [
    "### Elastic net"
   ]
  },
  {
   "cell_type": "code",
   "execution_count": null,
   "metadata": {
    "execution": {
     "iopub.execute_input": "2021-02-09T14:49:41.621843Z",
     "iopub.status.busy": "2021-02-09T14:49:41.621343Z",
     "iopub.status.idle": "2021-02-09T14:49:44.023201Z",
     "shell.execute_reply": "2021-02-09T14:49:44.023657Z"
    }
   },
   "outputs": [],
   "source": [
    "reg = linear_model.ElasticNet(max_iter = 10000, l1_ratio=0.5, fit_intercept = False)\n",
    "beta_elnet, best_beta_elnet, cv_out_elnet, min_alpha_elnet = feature_selection_cv(X, y, alpha_vals, reg)\n",
    "\n",
    "# Best model\n",
    "reg_elnet = linear_model.ElasticNet(alpha=min_alpha_elnet, max_iter = 10000, l1_ratio=0.5, fit_intercept = False)"
   ]
  },
  {
   "cell_type": "markdown",
   "metadata": {},
   "source": [
    "### Group lasso"
   ]
  },
  {
   "cell_type": "code",
   "execution_count": null,
   "metadata": {
    "execution": {
     "iopub.execute_input": "2021-02-09T14:49:44.030351Z",
     "iopub.status.busy": "2021-02-09T14:49:44.029502Z",
     "iopub.status.idle": "2021-02-09T14:53:00.603384Z",
     "shell.execute_reply": "2021-02-09T14:53:00.602631Z"
    }
   },
   "outputs": [],
   "source": [
    "#group_keys= {\"T\":-1,\n",
    "#            \"RH\":-1,\n",
    "#            \"\":-1}\n",
    "group_keys= {\"T\":1,\n",
    "            \"RH\":2,\n",
    "            \"\":-1}\n",
    "\n",
    "groups = []\n",
    "for var_name in df_train.columns[1:]:\n",
    "    for key, value in group_keys.items():\n",
    "        if key in var_name:\n",
    "            groups.append(value)\n",
    "            break\n",
    "# Group the rooms, and outside together\n",
    "#groups=[-1, 1, 1, 2, 2, 3, 3, 4, 4, 5, 5, 6, 6, 7, 7, 8, 8, 9, 9, 10, 10, 10, 10, 10, 10, -1, -1]\n",
    "print(*zip(groups, df_train.columns[1:]))\n",
    "\n",
    "reg = GroupLasso(groups=groups, frobenius_lipschitz=True, subsampling_scheme=1,\n",
    "                 fit_intercept=False, random_state=0, supress_warning=True, n_iter=10000, tol=0.0001,\n",
    "    )\n",
    "group_reg = 0.05\n",
    "beta_glasso, best_beta_glasso, cv_out_glasso, min_alpha_glasso = feature_selection_cv(X, y, alpha_vals, reg, \n",
    "                                                                                      group_reg=group_reg)"
   ]
  },
  {
   "cell_type": "code",
   "execution_count": null,
   "metadata": {
    "execution": {
     "iopub.execute_input": "2021-02-09T14:53:00.608588Z",
     "iopub.status.busy": "2021-02-09T14:53:00.607928Z",
     "iopub.status.idle": "2021-02-09T14:53:00.610752Z",
     "shell.execute_reply": "2021-02-09T14:53:00.610244Z"
    }
   },
   "outputs": [],
   "source": [
    "# Best model\n",
    "reg_gl = GroupLasso(\n",
    "    groups=groups,\n",
    "    group_reg=group_reg*min_alpha_glasso,\n",
    "    l1_reg=(1-group_reg)*min_alpha_glasso,\n",
    "    frobenius_lipschitz=True,\n",
    "    subsampling_scheme=1,\n",
    "    fit_intercept=False,\n",
    "    random_state=0,\n",
    "    supress_warning=True,\n",
    "    n_iter=10000,\n",
    "    tol=0.0001,\n",
    "    )"
   ]
  },
  {
   "cell_type": "markdown",
   "metadata": {},
   "source": [
    "### Plotting coefficients vs lambda"
   ]
  },
  {
   "cell_type": "code",
   "execution_count": null,
   "metadata": {
    "execution": {
     "iopub.execute_input": "2021-02-09T14:53:00.628905Z",
     "iopub.status.busy": "2021-02-09T14:53:00.624229Z",
     "iopub.status.idle": "2021-02-09T14:53:01.390157Z",
     "shell.execute_reply": "2021-02-09T14:53:01.390621Z"
    }
   },
   "outputs": [],
   "source": [
    "plot_coefficients(beta_ridge, alpha_vals, min_alpha_ridge, name='Ridge')\n",
    "plot_coefficients(beta_lasso, alpha_vals, min_alpha_lasso, name='Lasso')\n",
    "plot_coefficients(beta_elnet, alpha_vals, min_alpha_elnet, name='Elastic net')\n",
    "plot_coefficients(beta_glasso, alpha_vals, min_alpha_glasso, name='Grouped lasso')"
   ]
  },
  {
   "cell_type": "code",
   "execution_count": null,
   "metadata": {
    "execution": {
     "iopub.execute_input": "2021-02-09T14:53:01.394479Z",
     "iopub.status.busy": "2021-02-09T14:53:01.394018Z",
     "iopub.status.idle": "2021-02-09T14:53:02.006367Z",
     "shell.execute_reply": "2021-02-09T14:53:02.004970Z"
    }
   },
   "outputs": [],
   "source": [
    "plot_CV_MSE(alpha_vals, -np.array(cv_out_ridge), min_alpha_ridge, 'Ridge')\n",
    "plot_CV_MSE(alpha_vals, -np.array(cv_out_lasso), min_alpha_lasso, 'Lasso')\n",
    "plot_CV_MSE(alpha_vals, -np.array(cv_out_elnet), min_alpha_elnet, 'Elastic net')\n",
    "plot_CV_MSE(alpha_vals, -np.array(cv_out_glasso), min_alpha_glasso, 'Grouped Lasso')"
   ]
  },
  {
   "cell_type": "code",
   "execution_count": null,
   "metadata": {
    "execution": {
     "iopub.execute_input": "2021-02-09T14:53:02.015991Z",
     "iopub.status.busy": "2021-02-09T14:53:02.015451Z",
     "iopub.status.idle": "2021-02-09T14:53:02.031842Z",
     "shell.execute_reply": "2021-02-09T14:53:02.031425Z"
    }
   },
   "outputs": [],
   "source": [
    "data = {'Feature': list(df_train.columns[1:])}\n",
    "df_results = pd.DataFrame(data)\n",
    "df_results['Least squares'] = beta_ls.T\n",
    "df_results['Lasso'] = beta_lasso[:,alpha_vals==min_alpha_lasso]\n",
    "df_results['Ridge'] = beta_ridge[:,alpha_vals==min_alpha_ridge]\n",
    "df_results['Elastic net'] = beta_elnet[:,alpha_vals==min_alpha_elnet]\n",
    "df_results['Group Lasso'] = beta_glasso[:,alpha_vals==min_alpha_glasso]\n",
    "df_results"
   ]
  },
  {
   "cell_type": "markdown",
   "metadata": {},
   "source": [
    "### Testing with another month"
   ]
  },
  {
   "cell_type": "code",
   "execution_count": null,
   "metadata": {
    "execution": {
     "iopub.execute_input": "2021-02-09T14:53:02.047627Z",
     "iopub.status.busy": "2021-02-09T14:53:02.041441Z",
     "iopub.status.idle": "2021-02-09T14:53:02.974838Z",
     "shell.execute_reply": "2021-02-09T14:53:02.975303Z"
    }
   },
   "outputs": [],
   "source": [
    "months = [3]\n",
    "regs = [reg_lstsq,reg_ridge,reg_lasso,reg_elnet,reg_gl]\n",
    "labels = ['Least squares','Ridge','Lasso','Elastic net','Group lasso']\n",
    "\n",
    "fig, axs = plt.subplots(len(regs))\n",
    "fig.set_figheight(25)\n",
    "fig.set_figwidth(10)\n",
    "\n",
    "df_test = df[np.isin(df.index.month,months)]\n",
    "df_test = df_test.drop(['weekday', 'week status','month','NSM'], axis=1) # dropping the features used for filtering\n",
    "\n",
    "y_t = np.array(df_test['Appliances']).reshape(-1,1)\n",
    "X_t = np.array(df_test[df_test.columns[1:]])\n",
    "\n",
    "i = 0\n",
    "for reg in regs:\n",
    "    # Testing data\n",
    "    X_t, y_t = standardize(X_t,y_t)\n",
    "    reg.fit(X,y)\n",
    "    y_p = reg.predict(X_t)\n",
    "    axs[i].plot([min(y_p),max(y_p)],[min(y_p),max(y_p)],'k-')\n",
    "    axs[i].scatter(reg.predict(X_t),y_t)\n",
    "    axs[i].grid()\n",
    "    axs[i].set_title(labels[i], loc='left')\n",
    "    print('Train score, '+labels[i]+': ',np.round(reg.score(X,y),3))\n",
    "    print('Test score: '+labels[i]+': ',np.round(reg.score(X_t,y_t),3))\n",
    "    i+=1\n",
    "    \n",
    "for ax in axs.flat:\n",
    "    ax.set(xlabel='Predicted appliances', ylabel='True appliances')\n",
    "    \n",
    "plt.show()"
   ]
  },
  {
   "cell_type": "markdown",
   "metadata": {},
   "source": [
    "### Bootstrap CV"
   ]
  },
  {
   "cell_type": "code",
   "execution_count": null,
   "metadata": {
    "execution": {
     "iopub.execute_input": "2021-02-09T14:53:02.981201Z",
     "iopub.status.busy": "2021-02-09T14:53:02.980186Z",
     "iopub.status.idle": "2021-02-09T14:55:32.033033Z",
     "shell.execute_reply": "2021-02-09T14:55:32.032216Z"
    }
   },
   "outputs": [],
   "source": [
    "%%time\n",
    "# The code in the rest of this notebook scales with this number\n",
    "# We ran with len(df_train) samples, but you probably want to \n",
    "# change this to something more managable\n",
    "boot_samples = len(df_train) #1\n",
    "boot_size = len(df_train)\n",
    "\n",
    "reg_lasso = linear_model.Lasso(max_iter=10000, fit_intercept=False)\n",
    "betas_lasso = bootstrap_loop(X, y, alpha_vals, reg_lasso, b=boot_size, N_samples=boot_samples)"
   ]
  },
  {
   "cell_type": "code",
   "execution_count": null,
   "metadata": {
    "execution": {
     "iopub.execute_input": "2021-02-09T14:55:32.038248Z",
     "iopub.status.busy": "2021-02-09T14:55:32.037790Z",
     "iopub.status.idle": "2021-02-09T15:09:05.558245Z",
     "shell.execute_reply": "2021-02-09T15:09:05.557831Z"
    }
   },
   "outputs": [],
   "source": [
    "%%time\n",
    "reg_ridge = linear_model.ElasticNet(alpha=min_alpha_ridge, max_iter = 10000, l1_ratio=0.0, fit_intercept = False)\n",
    "betas_ridge = bootstrap_loop(X, y, alpha_vals, reg_ridge, b=boot_size, N_samples=boot_samples)"
   ]
  },
  {
   "cell_type": "code",
   "execution_count": null,
   "metadata": {
    "execution": {
     "iopub.execute_input": "2021-02-09T15:09:05.564559Z",
     "iopub.status.busy": "2021-02-09T15:09:05.563178Z",
     "iopub.status.idle": "2021-02-09T15:10:23.403846Z",
     "shell.execute_reply": "2021-02-09T15:10:23.403362Z"
    }
   },
   "outputs": [],
   "source": [
    "%%time\n",
    "reg_elnet = linear_model.ElasticNet(alpha=min_alpha_elnet, max_iter=10000, l1_ratio=0.5, fit_intercept = False)\n",
    "betas_elnet = bootstrap_loop(X, y, alpha_vals, reg_elnet, b=boot_size, N_samples=boot_samples)"
   ]
  },
  {
   "cell_type": "code",
   "execution_count": null,
   "metadata": {
    "execution": {
     "iopub.execute_input": "2021-02-09T15:10:23.410833Z",
     "iopub.status.busy": "2021-02-09T15:10:23.409615Z",
     "iopub.status.idle": "2021-02-09T16:41:35.488106Z",
     "shell.execute_reply": "2021-02-09T16:41:35.487362Z"
    }
   },
   "outputs": [],
   "source": [
    "%%time\n",
    "reg_gl = reg_gl = GroupLasso(\n",
    "    groups=groups,\n",
    "    group_reg=group_reg*min_alpha_glasso,#alpha_vals[i],\n",
    "    l1_reg=(1-group_reg)*min_alpha_glasso,\n",
    "    frobenius_lipschitz=True,\n",
    "    #scale_reg=\"inverse_group_size\",\n",
    "    #scale_reg=\"inverse_group_size\",\n",
    "    subsampling_scheme=1,\n",
    "    fit_intercept=False,\n",
    "    random_state=0,\n",
    "    supress_warning=True,\n",
    "    n_iter=10000,\n",
    "    tol=0.0001,\n",
    "    )\n",
    "betas_gl = bootstrap_loop(X, y, alpha_vals, reg_gl, b=boot_size, N_samples=boot_samples, group_reg=group_reg)"
   ]
  },
  {
   "cell_type": "code",
   "execution_count": null,
   "metadata": {
    "execution": {
     "iopub.execute_input": "2021-02-09T16:41:35.509263Z",
     "iopub.status.busy": "2021-02-09T16:41:35.504760Z",
     "iopub.status.idle": "2021-02-09T16:41:37.386728Z",
     "shell.execute_reply": "2021-02-09T16:41:37.385942Z"
    },
    "scrolled": false
   },
   "outputs": [],
   "source": [
    "plt.figure(figsize=(12,8), dpi= 100, facecolor='w', edgecolor='k')\n",
    "plt.boxplot(betas_lasso,labels=df_train.columns[1:])\n",
    "plt.xticks(rotation='vertical')\n",
    "plt.title('Lasso')\n",
    "plt.show()\n",
    "\n",
    "plt.figure(figsize=(12,8), dpi= 100, facecolor='w', edgecolor='k')\n",
    "plt.boxplot(betas_ridge,labels=df_train.columns[1:])\n",
    "plt.xticks(rotation='vertical')\n",
    "plt.title('Ridge')\n",
    "plt.show()\n",
    "\n",
    "plt.figure(figsize=(12,8), dpi= 100, facecolor='w', edgecolor='k')\n",
    "plt.boxplot(betas_elnet,labels=df_train.columns[1:])\n",
    "plt.xticks(rotation='vertical')\n",
    "plt.title('Elastic Net')\n",
    "plt.show()\n",
    "\n",
    "\n",
    "plt.figure(figsize=(12,8), dpi= 100, facecolor='w', edgecolor='k')\n",
    "plt.boxplot(betas_gl,labels=df_train.columns[1:])\n",
    "plt.xticks(rotation='vertical')\n",
    "plt.title('Group Lasso')\n",
    "plt.show()\n"
   ]
  },
  {
   "cell_type": "code",
   "execution_count": null,
   "metadata": {
    "execution": {
     "iopub.execute_input": "2021-02-09T16:41:37.400609Z",
     "iopub.status.busy": "2021-02-09T16:41:37.391781Z",
     "iopub.status.idle": "2021-02-09T16:41:37.656764Z",
     "shell.execute_reply": "2021-02-09T16:41:37.655695Z"
    }
   },
   "outputs": [],
   "source": [
    "number_of_zeros = np.sum(betas_lasso == 0,axis=0)\n",
    "y_pos = np.arange(len(df_train.columns[1:]))\n",
    "\n",
    "# Sorting in descenting order\n",
    "labels = df_train.columns[1:][number_of_zeros.argsort()][::-1]\n",
    "number_of_zeros[::-1].sort()\n",
    "\n",
    "plt.figure(figsize=(12,8), dpi= 100, facecolor='w', edgecolor='k')\n",
    "plt.barh(y_pos,number_of_zeros ,align='center', alpha=0.5)\n",
    "plt.yticks(y_pos, labels)\n",
    "plt.show()"
   ]
  },
  {
   "cell_type": "code",
   "execution_count": null,
   "metadata": {},
   "outputs": [],
   "source": []
  }
 ],
 "metadata": {
  "kernelspec": {
   "display_name": "Python 3",
   "language": "python",
   "name": "python3"
  },
  "language_info": {
   "codemirror_mode": {
    "name": "ipython",
    "version": 3
   },
   "file_extension": ".py",
   "mimetype": "text/x-python",
   "name": "python",
   "nbconvert_exporter": "python",
   "pygments_lexer": "ipython3",
   "version": "3.9.1"
  }
 },
 "nbformat": 4,
 "nbformat_minor": 4
}
