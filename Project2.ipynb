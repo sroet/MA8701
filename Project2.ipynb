{
 "cells": [
  {
   "cell_type": "code",
   "execution_count": null,
   "metadata": {
    "execution": {
     "iopub.execute_input": "2021-02-09T14:48:55.533145Z",
     "iopub.status.busy": "2021-02-09T14:48:55.532569Z",
     "iopub.status.idle": "2021-02-09T14:48:56.354332Z",
     "shell.execute_reply": "2021-02-09T14:48:56.353423Z"
    }
   },
   "outputs": [],
   "source": [
    "import numpy as np\n",
    "import pandas as pd\n",
    "from sklearn import linear_model\n",
    "import seaborn as sns\n",
    "import datetime\n",
    "from group_lasso import GroupLasso\n",
    "from sklearn.utils import resample, check_random_state\n",
    "from sklearn.model_selection import cross_val_score, cross_validate\n",
    "\n",
    "from extra_functions import *\n",
    "\n",
    "# Silence some warnings\n",
    "import warnings\n",
    "warnings.filterwarnings('ignore')"
   ]
  },
  {
   "cell_type": "code",
   "execution_count": null,
   "metadata": {
    "execution": {
     "iopub.execute_input": "2021-02-09T14:48:56.358461Z",
     "iopub.status.busy": "2021-02-09T14:48:56.357998Z",
     "iopub.status.idle": "2021-02-09T14:49:04.818353Z",
     "shell.execute_reply": "2021-02-09T14:49:04.818809Z"
    }
   },
   "outputs": [],
   "source": [
    "df = pd.read_csv('energydata_complete.csv')\n",
    "df['date'] = pd.to_datetime(df['date'])\n",
    "df = df.set_index('date')\n",
    "\n",
    "fig = plot_data(df)\n",
    "fig"
   ]
  },
  {
   "cell_type": "markdown",
   "metadata": {},
   "source": [
    "### Generating extra features to describe time\n",
    "weekday: number [0,6]\\\n",
    "weekstatus: binary describing weekend (1) or not (0)\\\n",
    "NSM: Number of Seconds from Midnight\n",
    "\n",
    "These are used for filtering the data"
   ]
  },
  {
   "cell_type": "code",
   "execution_count": null,
   "metadata": {
    "execution": {
     "iopub.execute_input": "2021-02-09T14:49:04.852017Z",
     "iopub.status.busy": "2021-02-09T14:49:04.851538Z",
     "iopub.status.idle": "2021-02-09T14:49:04.853614Z",
     "shell.execute_reply": "2021-02-09T14:49:04.854001Z"
    }
   },
   "outputs": [],
   "source": [
    "weekday = np.zeros(len(df))\n",
    "weekstatus = np.zeros(len(df))\n",
    "NSM = np.zeros(len(df))\n",
    "month = np.zeros(len(df))\n",
    "\n",
    "for i, val in enumerate(df.index):\n",
    "    weekday[i] = val.weekday()\n",
    "    weekstatus[i] = (weekday[i] >= 5)  # False for workday, True for weekend\n",
    "    NSM[i] = (val - val.replace(hour=0, minute=0, second=0, microsecond=0)).total_seconds()\n",
    "    month[i] = val.month\n",
    "\n",
    "df['weekday'] = weekday\n",
    "df['week status'] = weekstatus\n",
    "df['NSM'] = NSM\n",
    "df['month'] = month\n"
   ]
  },
  {
   "cell_type": "markdown",
   "metadata": {},
   "source": [
    "## Add n previous timepoints to the data\n",
    "\n",
    "Here we add the result vector from \"t-n\" as part of the covariates. \n"
   ]
  },
  {
   "cell_type": "code",
   "execution_count": null,
   "metadata": {},
   "outputs": [],
   "source": [
    "ns = [1, 10, 100] # Make a list in-case we want to skip some \"n\"\n",
    "y = df['Appliances'].values # get y\n",
    "for n in ns:\n",
    "    temp = np.zeros_like(y)\n",
    "    temp[n:] = y[:-n]\n",
    "    df[f\"t-{n}\"]=temp\n",
    "# Strip the first max(n) datapoints that now miss data\n",
    "n = max(ns)\n",
    "df = df[n:]"
   ]
  },
  {
   "cell_type": "code",
   "execution_count": null,
   "metadata": {
    "execution": {
     "iopub.execute_input": "2021-02-09T14:49:04.860842Z",
     "iopub.status.busy": "2021-02-09T14:49:04.859591Z",
     "iopub.status.idle": "2021-02-09T14:49:04.988072Z",
     "shell.execute_reply": "2021-02-09T14:49:04.987599Z"
    }
   },
   "outputs": [],
   "source": [
    "plt.figure()\n",
    "\n",
    "# These two plots should be identical\n",
    "plt.plot(df['t-1'][:10],df['Appliances'][:10], lw=3, label=\"real\")\n",
    "plt.plot(df['t-1'][:10], df['t-1'][1:11], label=\"shifted t-1\") \n",
    "plt.xlabel('t-1')\n",
    "plt.ylabel('Appliances')\n",
    "plt.legend()\n",
    "plt.show()"
   ]
  },
  {
   "cell_type": "markdown",
   "metadata": {},
   "source": [
    "### Filtering data and making training/validation/test set"
   ]
  },
  {
   "cell_type": "code",
   "execution_count": null,
   "metadata": {
    "execution": {
     "iopub.execute_input": "2021-02-09T14:49:04.992536Z",
     "iopub.status.busy": "2021-02-09T14:49:04.992044Z",
     "iopub.status.idle": "2021-02-09T14:49:04.997415Z",
     "shell.execute_reply": "2021-02-09T14:49:04.997822Z"
    }
   },
   "outputs": [],
   "source": [
    "indices = (np.in1d(df.index.month, (1,2)))\n",
    "df_train = df[indices]\n",
    "df_valid = df[(df.index.month==3)]\n",
    "df_test = df[(df.index.month==4)]\n",
    "\n",
    "\n",
    "# Training data\n",
    "y = np.array(df_train['Appliances']).reshape(-1,1)\n",
    "X = np.array(df_train[df_train.columns[1:]])\n",
    "X, y = standardize(X,y)"
   ]
  },
  {
   "cell_type": "code",
   "execution_count": null,
   "metadata": {},
   "outputs": [],
   "source": [
    "# Check that the filter was correct\n",
    "print(len(df[(df.index.month==1)])+ len(df[(df.index.month==2)]))\n",
    "print(len(df_train))"
   ]
  },
  {
   "cell_type": "markdown",
   "metadata": {},
   "source": [
    "### Correlations of covariates"
   ]
  },
  {
   "cell_type": "code",
   "execution_count": null,
   "metadata": {
    "execution": {
     "iopub.execute_input": "2021-02-09T14:49:05.005598Z",
     "iopub.status.busy": "2021-02-09T14:49:05.001748Z",
     "iopub.status.idle": "2021-02-09T14:49:05.614325Z",
     "shell.execute_reply": "2021-02-09T14:49:05.613576Z"
    }
   },
   "outputs": [],
   "source": [
    "cor = df_train[df_train.columns[1:]].corr()\n",
    "fig, ax = plt.subplots(figsize=(10,10)) \n",
    "sns.heatmap(cor, square=True, xticklabels=True, yticklabels=True, cmap='RdBu')\n",
    "plt.show()"
   ]
  },
  {
   "cell_type": "markdown",
   "metadata": {},
   "source": [
    "## Recurrent NN"
   ]
  },
  {
   "cell_type": "code",
   "execution_count": null,
   "metadata": {
    "execution": {
     "iopub.execute_input": "2021-02-09T14:49:06.413613Z",
     "iopub.status.busy": "2021-02-09T14:49:06.413094Z",
     "iopub.status.idle": "2021-02-09T14:49:08.797491Z",
     "shell.execute_reply": "2021-02-09T14:49:08.796705Z"
    }
   },
   "outputs": [],
   "source": [
    "# Martins code here"
   ]
  },
  {
   "cell_type": "markdown",
   "metadata": {},
   "source": [
    "## Random forrest"
   ]
  },
  {
   "cell_type": "code",
   "execution_count": null,
   "metadata": {
    "execution": {
     "iopub.execute_input": "2021-02-09T14:49:08.802743Z",
     "iopub.status.busy": "2021-02-09T14:49:08.802250Z",
     "iopub.status.idle": "2021-02-09T14:49:09.362496Z",
     "shell.execute_reply": "2021-02-09T14:49:09.361497Z"
    }
   },
   "outputs": [],
   "source": [
    "# Youngrung's code her"
   ]
  },
  {
   "cell_type": "markdown",
   "metadata": {},
   "source": [
    "## Decision tree surrogacy"
   ]
  },
  {
   "cell_type": "code",
   "execution_count": null,
   "metadata": {
    "execution": {
     "iopub.execute_input": "2021-02-09T14:49:10.115111Z",
     "iopub.status.busy": "2021-02-09T14:49:10.114442Z",
     "iopub.status.idle": "2021-02-09T14:49:10.117154Z",
     "shell.execute_reply": "2021-02-09T14:49:10.116723Z"
    }
   },
   "outputs": [],
   "source": [
    "# Sander's code here"
   ]
  }
 ],
 "metadata": {
  "kernelspec": {
   "display_name": "Python 3",
   "language": "python",
   "name": "python3"
  },
  "language_info": {
   "codemirror_mode": {
    "name": "ipython",
    "version": 3
   },
   "file_extension": ".py",
   "mimetype": "text/x-python",
   "name": "python",
   "nbconvert_exporter": "python",
   "pygments_lexer": "ipython3",
   "version": "3.9.1"
  }
 },
 "nbformat": 4,
 "nbformat_minor": 4
}
