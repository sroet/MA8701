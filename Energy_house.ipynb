{
 "cells": [
  {
   "cell_type": "code",
   "execution_count": null,
   "metadata": {},
   "outputs": [],
   "source": [
    "import numpy as np\n",
    "import pandas as pd\n",
    "from sklearn import linear_model\n",
    "import seaborn as sns\n",
    "import datetime\n",
    "from group_lasso import GroupLasso\n",
    "from sklearn.utils import resample, check_random_state\n",
    "from sklearn.model_selection import cross_val_score, cross_validate\n",
    "\n",
    "from extra_functions import *\n",
    "\n",
    "#Silence some warnings (remove before final version)\n",
    "import warnings\n",
    "warnings.filterwarnings('ignore')"
   ]
  },
  {
   "cell_type": "code",
   "execution_count": null,
   "metadata": {},
   "outputs": [],
   "source": [
    "df = pd.read_csv('energydata_complete.csv')\n",
    "df['date'] = pd.to_datetime(df['date'])\n",
    "df = df.set_index('date')\n",
    "\n",
    "fig = plot_data(df)\n",
    "fig"
   ]
  },
  {
   "cell_type": "markdown",
   "metadata": {},
   "source": [
    "### Taking an 24-hour mean"
   ]
  },
  {
   "cell_type": "code",
   "execution_count": null,
   "metadata": {},
   "outputs": [],
   "source": [
    "df = df.resample('24h').mean()"
   ]
  },
  {
   "cell_type": "markdown",
   "metadata": {},
   "source": [
    "### Generating extra features to describe time\n",
    "weekday: number [0,6]\\\n",
    "weekstatus: binary describing weekend (1) or not (0)\\\n",
    "NSM: Number of Seconds from Midnight\n",
    "\n",
    "These are used for filtering the data"
   ]
  },
  {
   "cell_type": "code",
   "execution_count": null,
   "metadata": {},
   "outputs": [],
   "source": [
    "weekday = np.zeros(len(df))\n",
    "weekstatus = np.zeros(len(df))\n",
    "NSM = np.zeros(len(df))\n",
    "month = np.zeros(len(df))\n",
    "\n",
    "for i, val in enumerate(df.index):\n",
    "    weekday[i] = val.weekday()\n",
    "    weekstatus[i] = (weekday[i] >= 5)  # False for workday, True for weekend\n",
    "    NSM[i] = (val - val.replace(hour=0, minute=0, second=0, microsecond=0)).total_seconds()\n",
    "    month[i] = val.month\n",
    "\n",
    "df['weekday'] = weekday\n",
    "df['week status'] = weekstatus\n",
    "df['NSM'] = NSM\n",
    "df['month'] = month"
   ]
  },
  {
   "cell_type": "code",
   "execution_count": null,
   "metadata": {},
   "outputs": [],
   "source": [
    "plt.figure()\n",
    "plt.scatter(df['NSM'],df['Appliances'])\n",
    "plt.xlabel('NSM')\n",
    "plt.ylabel('Appliances')\n",
    "plt.show()"
   ]
  },
  {
   "cell_type": "markdown",
   "metadata": {},
   "source": [
    "### Filtering data and making training set\n",
    "Example: Only february, after 16:00 and workday"
   ]
  },
  {
   "cell_type": "code",
   "execution_count": null,
   "metadata": {},
   "outputs": [],
   "source": [
    "#df_train = df[(df.index.month==2) & (df['NSM']>=16*3600) & (df['NSM']<24*3600)]\n",
    "df_train = df[(df.index.month==2)]\n",
    "df_train = df_train.drop(['weekday', 'week status','month','NSM'], axis=1) # dropping the features used for filtering\n",
    "\n",
    "# Training data\n",
    "y = np.array(df_train['Appliances']).reshape(-1,1)\n",
    "X = np.array(df_train[df_train.columns[1:]])\n",
    "X, y = standardize(X,y)"
   ]
  },
  {
   "cell_type": "markdown",
   "metadata": {},
   "source": [
    "### Correlations of covariates"
   ]
  },
  {
   "cell_type": "code",
   "execution_count": null,
   "metadata": {},
   "outputs": [],
   "source": [
    "cor = df_train[df_train.columns[1:]].corr()\n",
    "fig, ax = plt.subplots(figsize=(10,10)) \n",
    "sns.heatmap(cor, square=True, xticklabels=True, yticklabels=True, cmap='RdBu')\n",
    "plt.show()"
   ]
  },
  {
   "cell_type": "markdown",
   "metadata": {},
   "source": [
    "### Cross validation"
   ]
  },
  {
   "cell_type": "code",
   "execution_count": null,
   "metadata": {},
   "outputs": [],
   "source": [
    "# Creating array of penalties\n",
    "\n",
    "n_alpha = 100 # Number of penalties\n",
    "min_alpha = .01 # min penalty\n",
    "max_alpha = 200 # Maximum penalty\n",
    "alpha_vals = np.logspace(np.log10(min_alpha),np.log10(max_alpha),n_alpha)\n",
    "alpha_vals = alpha_vals[::-1] # reversing array (some sklearn standard?)"
   ]
  },
  {
   "cell_type": "markdown",
   "metadata": {},
   "source": [
    "#### CV Lasso"
   ]
  },
  {
   "cell_type": "code",
   "execution_count": null,
   "metadata": {},
   "outputs": [],
   "source": [
    "cv_lasso = linear_model.LassoCV(cv=10, random_state=0, fit_intercept=False, alphas=alpha_vals).fit(X, y)"
   ]
  },
  {
   "cell_type": "markdown",
   "metadata": {},
   "source": [
    "#### CV Ridge"
   ]
  },
  {
   "cell_type": "code",
   "execution_count": null,
   "metadata": {},
   "outputs": [],
   "source": [
    "cv_ridge = linear_model.ElasticNetCV(cv=10, random_state=0, l1_ratio=0, fit_intercept=False, alphas=alpha_vals).fit(X, y)"
   ]
  },
  {
   "cell_type": "markdown",
   "metadata": {},
   "source": [
    "#### CV Elastic net (0.5 ratio)"
   ]
  },
  {
   "cell_type": "code",
   "execution_count": null,
   "metadata": {},
   "outputs": [],
   "source": [
    "cv_elnet = linear_model.ElasticNetCV(cv=10, random_state=0, l1_ratio=0.5, fit_intercept=False, alphas=alpha_vals).fit(X, y)"
   ]
  },
  {
   "cell_type": "code",
   "execution_count": null,
   "metadata": {},
   "outputs": [],
   "source": [
    "print('Lasso score: ', cv_lasso.score(X,y))\n",
    "print('Ridge score: ', cv_ridge.score(X,y))\n",
    "print('Elastic net score: ', cv_elnet.score(X,y))"
   ]
  },
  {
   "cell_type": "code",
   "execution_count": null,
   "metadata": {},
   "outputs": [],
   "source": [
    "plot_CV_MSE(alpha_vals,cv_lasso.mse_path_,cv_lasso.alpha_, 'Lasso')\n",
    "plot_CV_MSE(alpha_vals,cv_ridge.mse_path_,cv_ridge.alpha_, 'Ridge')\n",
    "plot_CV_MSE(alpha_vals,cv_elnet.mse_path_,cv_elnet.alpha_, 'Elastic net')"
   ]
  },
  {
   "cell_type": "markdown",
   "metadata": {},
   "source": [
    "### Cross validation parameters"
   ]
  },
  {
   "cell_type": "code",
   "execution_count": null,
   "metadata": {},
   "outputs": [],
   "source": [
    "# Creating array of penalties\n",
    "n_alpha = 100 # Number of penalties\n",
    "min_alpha = .01 # min penalty\n",
    "max_alpha = 200 # Maximum penalty\n",
    "alpha_vals = np.logspace(np.log10(min_alpha),np.log10(max_alpha),n_alpha)\n",
    "alpha_vals = alpha_vals[::-1] # reversing array (some sklearn standard?)"
   ]
  },
  {
   "cell_type": "markdown",
   "metadata": {},
   "source": [
    "### Ordinary least squares"
   ]
  },
  {
   "cell_type": "code",
   "execution_count": null,
   "metadata": {},
   "outputs": [],
   "source": [
    "reg_lstsq = linear_model.LinearRegression(fit_intercept=False)\n",
    "beta_ls = reg_lstsq.fit(X,y).coef_"
   ]
  },
  {
   "cell_type": "markdown",
   "metadata": {},
   "source": [
    "### Lasso"
   ]
  },
  {
   "cell_type": "code",
   "execution_count": null,
   "metadata": {},
   "outputs": [],
   "source": [
    "reg = linear_model.Lasso(max_iter = 10000, fit_intercept = False)\n",
    "beta_lasso, best_beta_lasso, cv_out_lasso, min_alpha_lasso = feature_selection_cv(X, y, alpha_vals, reg)\n",
    "    \n",
    "# Best model   \n",
    "reg_lasso = linear_model.Lasso(alpha=min_alpha_lasso, max_iter = 10000, fit_intercept = False)"
   ]
  },
  {
   "cell_type": "markdown",
   "metadata": {},
   "source": [
    "### Ridge"
   ]
  },
  {
   "cell_type": "code",
   "execution_count": null,
   "metadata": {},
   "outputs": [],
   "source": [
    "reg = linear_model.ElasticNet(max_iter = 10000, l1_ratio=0, fit_intercept = False)\n",
    "\n",
    "beta_ridge, best_beta_ridge, cv_out_ridge, min_alpha_ridge = feature_selection_cv(X, y, alpha_vals, reg)\n",
    "        \n",
    "# Best model\n",
    "reg_ridge = linear_model.ElasticNet(alpha=min_alpha_ridge, max_iter = 10000, l1_ratio=0.0, fit_intercept = False)"
   ]
  },
  {
   "cell_type": "markdown",
   "metadata": {},
   "source": [
    "### Elastic net"
   ]
  },
  {
   "cell_type": "code",
   "execution_count": null,
   "metadata": {},
   "outputs": [],
   "source": [
    "reg = linear_model.ElasticNet(max_iter = 10000, l1_ratio=0.5, fit_intercept = False)\n",
    "beta_elnet, best_beta_elnet, cv_out_elnet, min_alpha_elnet = feature_selection_cv(X, y, alpha_vals, reg)\n",
    "\n",
    "# Best model\n",
    "reg_elnet = linear_model.ElasticNet(alpha=min_alpha_elnet, max_iter = 10000, l1_ratio=0.5, fit_intercept = False)"
   ]
  },
  {
   "cell_type": "markdown",
   "metadata": {},
   "source": [
    "### Group lasso"
   ]
  },
  {
   "cell_type": "code",
   "execution_count": null,
   "metadata": {},
   "outputs": [],
   "source": [
    "#group_keys= {\"T\":-1,\n",
    "#            \"RH\":-1,\n",
    "#            \"\":-1}\n",
    "group_keys= {\"T\":1,\n",
    "            \"RH\":2,\n",
    "            \"\":-1}\n",
    "\n",
    "groups = []\n",
    "for var_name in df_train.columns[1:]:\n",
    "    for key, value in group_keys.items():\n",
    "        if key in var_name:\n",
    "            groups.append(value)\n",
    "            break\n",
    "# Group the rooms, and outside together\n",
    "#groups=[-1, 1, 1, 2, 2, 3, 3, 4, 4, 5, 5, 6, 6, 7, 7, 8, 8, 9, 9, 10, 10, 10, 10, 10, 10, -1, -1]\n",
    "print(*zip(groups, df_train.columns[1:]))\n",
    "\n",
    "reg = GroupLasso(groups=groups, frobenius_lipschitz=True, subsampling_scheme=1,\n",
    "                 fit_intercept=False, random_state=0, supress_warning=True, n_iter=10000, tol=0.0001,\n",
    "    )\n",
    "group_reg = 0.05\n",
    "beta_glasso, best_beta_glasso, cv_out_glasso, min_alpha_glasso = feature_selection_cv(X, y, alpha_vals, reg, \n",
    "                                                                                      group_reg=group_reg)"
   ]
  },
  {
   "cell_type": "code",
   "execution_count": null,
   "metadata": {},
   "outputs": [],
   "source": [
    "# Best model\n",
    "reg_gl = GroupLasso(\n",
    "    groups=groups,\n",
    "    group_reg=group_reg*min_alpha_glasso,\n",
    "    l1_reg=(1-group_reg)*min_alpha_glasso,\n",
    "    frobenius_lipschitz=True,\n",
    "    subsampling_scheme=1,\n",
    "    fit_intercept=False,\n",
    "    random_state=0,\n",
    "    supress_warning=True,\n",
    "    n_iter=10000,\n",
    "    tol=0.0001,\n",
    "    )"
   ]
  },
  {
   "cell_type": "markdown",
   "metadata": {},
   "source": [
    "### Plotting coefficients vs lambda"
   ]
  },
  {
   "cell_type": "code",
   "execution_count": null,
   "metadata": {},
   "outputs": [],
   "source": [
    "plot_coefficients(beta_ridge, alpha_vals, min_alpha_ridge, name='Ridge')\n",
    "plot_coefficients(beta_lasso, alpha_vals, min_alpha_lasso, name='Lasso')\n",
    "plot_coefficients(beta_elnet, alpha_vals, min_alpha_elnet, name='Elastic net')\n",
    "plot_coefficients(beta_glasso, alpha_vals, min_alpha_glasso, name='Grouped lasso')"
   ]
  },
  {
   "cell_type": "code",
   "execution_count": null,
   "metadata": {},
   "outputs": [],
   "source": [
    "plot_CV_MSE(alpha_vals, -np.array(cv_out_ridge), min_alpha_ridge, 'Ridge')\n",
    "plot_CV_MSE(alpha_vals, -np.array(cv_out_lasso), min_alpha_lasso, 'Lasso')\n",
    "plot_CV_MSE(alpha_vals, -np.array(cv_out_elnet), min_alpha_elnet, 'Elastic net')\n",
    "plot_CV_MSE(alpha_vals, -np.array(cv_out_glasso), min_alpha_glasso, 'Grouped Lasso')"
   ]
  },
  {
   "cell_type": "code",
   "execution_count": null,
   "metadata": {},
   "outputs": [],
   "source": [
    "data = {'Feature': list(df_train.columns[1:])}\n",
    "df_results = pd.DataFrame(data)\n",
    "df_results['Least squares'] = beta_ls.T\n",
    "df_results['Lasso'] = beta_lasso[:,alpha_vals==min_alpha_lasso]\n",
    "df_results['Ridge'] = beta_ridge[:,alpha_vals==min_alpha_ridge]\n",
    "df_results['Elastic net'] = beta_elnet[:,alpha_vals==min_alpha_elnet]\n",
    "df_results['Group Lasso'] = beta_glasso[:,alpha_vals==min_alpha_glasso]\n",
    "df_results"
   ]
  },
  {
   "cell_type": "markdown",
   "metadata": {},
   "source": [
    "### Testing with another month"
   ]
  },
  {
   "cell_type": "code",
   "execution_count": null,
   "metadata": {},
   "outputs": [],
   "source": [
    "months = [3]\n",
    "regs = [reg_lstsq,reg_ridge,reg_lasso,reg_elnet,reg_gl]\n",
    "labels = ['Least squares','Ridge','Lasso','Elastic net','Group lasso']\n",
    "\n",
    "fig, axs = plt.subplots(len(regs))\n",
    "fig.set_figheight(25)\n",
    "fig.set_figwidth(10)\n",
    "\n",
    "df_test = df[np.isin(df.index.month,months)]\n",
    "df_test = df_test.drop(['weekday', 'week status','month','NSM'], axis=1) # dropping the features used for filtering\n",
    "\n",
    "y_t = np.array(df_test['Appliances']).reshape(-1,1)\n",
    "X_t = np.array(df_test[df_test.columns[1:]])\n",
    "\n",
    "i = 0\n",
    "for reg in regs:\n",
    "    # Testing data\n",
    "    X_t, y_t = standardize(X_t,y_t)\n",
    "    reg.fit(X,y)\n",
    "    y_p = reg.predict(X_t)\n",
    "    axs[i].plot([min(y_p),max(y_p)],[min(y_p),max(y_p)],'k-')\n",
    "    axs[i].scatter(reg.predict(X_t),y_t)\n",
    "    axs[i].grid()\n",
    "    axs[i].set_title(labels[i], loc='left')\n",
    "    print('Train score, '+labels[i]+': ',np.round(reg.score(X,y),3))\n",
    "    print('Test score: '+labels[i]+': ',np.round(reg.score(X_t,y_t),3))\n",
    "    i+=1\n",
    "    \n",
    "for ax in axs.flat:\n",
    "    ax.set(xlabel='Predicted appliances', ylabel='True appliances')\n",
    "    \n",
    "plt.show()"
   ]
  },
  {
   "cell_type": "markdown",
   "metadata": {},
   "source": [
    "### Bootstrap CV"
   ]
  },
  {
   "cell_type": "code",
   "execution_count": null,
   "metadata": {},
   "outputs": [],
   "source": [
    "%%time\n",
    "# The code in the rest of this notebook scales with this number\n",
    "# We ran with len(df_train) samples, but you probably want to \n",
    "# change this to something more managable\n",
    "boot_samples = 1 #len(df_train) #100\n",
    "boot_size = len(df_train) #100\n",
    "\n",
    "reg_lasso = linear_model.Lasso(max_iter=10000, fit_intercept=False)\n",
    "betas_lasso = bootstrap_loop(X, y, alpha_vals, reg_lasso, b=boot_size, N_samples=boot_samples)"
   ]
  },
  {
   "cell_type": "code",
   "execution_count": null,
   "metadata": {},
   "outputs": [],
   "source": [
    "%%time\n",
    "reg_ridge = linear_model.ElasticNet(alpha=min_alpha_ridge, max_iter = 10000, l1_ratio=0.0, fit_intercept = False)\n",
    "betas_ridge = bootstrap_loop(X, y, alpha_vals, reg_ridge, b=boot_size, N_samples=boot_samples)"
   ]
  },
  {
   "cell_type": "code",
   "execution_count": null,
   "metadata": {},
   "outputs": [],
   "source": [
    "%%time\n",
    "reg_elnet = linear_model.ElasticNet(alpha=min_alpha_elnet, max_iter=10000, l1_ratio=0.5, fit_intercept = False)\n",
    "betas_elnet = bootstrap_loop(X, y, alpha_vals, reg_elnet, b=boot_size, N_samples=boot_samples)"
   ]
  },
  {
   "cell_type": "code",
   "execution_count": null,
   "metadata": {},
   "outputs": [],
   "source": [
    "%%time\n",
    "reg_gl = reg_gl = GroupLasso(\n",
    "    groups=groups,\n",
    "    group_reg=group_reg*min_alpha_glasso,#alpha_vals[i],\n",
    "    l1_reg=(1-group_reg)*min_alpha_glasso,\n",
    "    frobenius_lipschitz=True,\n",
    "    #scale_reg=\"inverse_group_size\",\n",
    "    #scale_reg=\"inverse_group_size\",\n",
    "    subsampling_scheme=1,\n",
    "    fit_intercept=False,\n",
    "    random_state=0,\n",
    "    supress_warning=True,\n",
    "    n_iter=10000,\n",
    "    tol=0.0001,\n",
    "    )\n",
    "betas_gl = bootstrap_loop(X, y, alpha_vals, reg_gl, b=boot_size, N_samples=boot_samples, group_reg=group_reg)"
   ]
  },
  {
   "cell_type": "code",
   "execution_count": null,
   "metadata": {
    "scrolled": false
   },
   "outputs": [],
   "source": [
    "plt.figure(figsize=(12,8), dpi= 100, facecolor='w', edgecolor='k')\n",
    "plt.boxplot(betas_lasso,labels=df_train.columns[1:])\n",
    "plt.xticks(rotation='vertical')\n",
    "plt.title('Lasso')\n",
    "plt.show()\n",
    "\n",
    "plt.figure(figsize=(12,8), dpi= 100, facecolor='w', edgecolor='k')\n",
    "plt.boxplot(betas_ridge,labels=df_train.columns[1:])\n",
    "plt.xticks(rotation='vertical')\n",
    "plt.title('Ridge')\n",
    "plt.show()\n",
    "\n",
    "plt.figure(figsize=(12,8), dpi= 100, facecolor='w', edgecolor='k')\n",
    "plt.boxplot(betas_elnet,labels=df_train.columns[1:])\n",
    "plt.xticks(rotation='vertical')\n",
    "plt.title('Elastic Net')\n",
    "plt.show()\n",
    "\n",
    "\n",
    "plt.figure(figsize=(12,8), dpi= 100, facecolor='w', edgecolor='k')\n",
    "plt.boxplot(betas_gl,labels=df_train.columns[1:])\n",
    "plt.xticks(rotation='vertical')\n",
    "plt.title('Group Lasso')\n",
    "plt.show()\n"
   ]
  },
  {
   "cell_type": "code",
   "execution_count": null,
   "metadata": {},
   "outputs": [],
   "source": [
    "number_of_zeros = np.sum(betas_lasso == 0,axis=0)\n",
    "y_pos = np.arange(len(df_train.columns[1:]))\n",
    "\n",
    "# Sorting in descenting order\n",
    "labels = df_train.columns[1:][number_of_zeros.argsort()][::-1]\n",
    "number_of_zeros[::-1].sort()\n",
    "\n",
    "plt.figure(figsize=(12,8), dpi= 100, facecolor='w', edgecolor='k')\n",
    "plt.barh(y_pos,number_of_zeros ,align='center', alpha=0.5)\n",
    "plt.yticks(y_pos, labels)\n",
    "plt.show()"
   ]
  },
  {
   "cell_type": "code",
   "execution_count": null,
   "metadata": {},
   "outputs": [],
   "source": []
  }
 ],
 "metadata": {
  "kernelspec": {
   "display_name": "Python 3",
   "language": "python",
   "name": "python3"
  },
  "language_info": {
   "codemirror_mode": {
    "name": "ipython",
    "version": 3
   },
   "file_extension": ".py",
   "mimetype": "text/x-python",
   "name": "python",
   "nbconvert_exporter": "python",
   "pygments_lexer": "ipython3",
   "version": "3.9.1"
  }
 },
 "nbformat": 4,
 "nbformat_minor": 4
}
